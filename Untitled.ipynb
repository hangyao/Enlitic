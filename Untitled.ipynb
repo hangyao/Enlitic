{
 "cells": [
  {
   "cell_type": "code",
   "execution_count": null,
   "metadata": {
    "collapsed": true
   },
   "outputs": [],
   "source": [
    "import numpy as np\n",
    "\n",
    "def meanLogProb(xa, xb, sigma):\n",
    "    '''\n",
    "    '''\n",
    "    m = xb.shape[0]\n",
    "    sigmaM = 0.0\n",
    "    for i in np.arange(m):\n",
    "        sigmaM += probDensity(xa, xb[i,:], sigma)\n",
    "    return sigmaM/float(m)\n",
    "\n",
    "def probDensity(xa, xb, sigma):\n",
    "    '''\n",
    "    '''\n",
    "    k, d = xa.shape\n",
    "    sigmaK = 0.0\n",
    "    for i in np.arange(k):\n",
    "        sigmaD = 0.0\n",
    "        for j in np.arange(d):\n",
    "            sigmaD -= (xb[j] - xa[i,j]) ** 2 / (2 * sigma ** 2) + np.log(2*np.pi*sigma**2) / 2.\n",
    "        sigmaK += np.exp(np.log(1. / k) + sigmaD)\n",
    "    return np.log(sigmaK)"
   ]
  },
  {
   "cell_type": "code",
   "execution_count": 42,
   "metadata": {
    "collapsed": false
   },
   "outputs": [
    {
     "name": "stdout",
     "output_type": "stream",
     "text": [
      "ok\n"
     ]
    }
   ],
   "source": [
    "import pickle \n",
    "# load MNIST data\n",
    "file = 'mnist.pkl'\n",
    "with open(file, 'rb') as fo:\n",
    "    try:\n",
    "        train, validate, test = pickle.load(fo, encoding='latin1')\n",
    "    except:\n",
    "        print(\"error.\")\n",
    "        pass"
   ]
  },
  {
   "cell_type": "code",
   "execution_count": null,
   "metadata": {
    "collapsed": true
   },
   "outputs": [],
   "source": [
    "# load CIFAR100 data\n",
    "file = ''\n",
    "with open(file, 'rb') as fo:\n",
    "    dict = pickle.load(fo, encoding='bytes')\n",
    "return dict"
   ]
  },
  {
   "cell_type": "code",
   "execution_count": null,
   "metadata": {
    "collapsed": true
   },
   "outputs": [],
   "source": [
    "def shuffleData(dataset, n=10000):\n",
    "    '''\n",
    "    '''    \n",
    "    numData = dataset[0].shape[0]\n",
    "    index = np.random.permutation(numData)\n",
    "    train_x = dataset[0][index][0:n, :]\n",
    "    valid_x = dataset[0][index][n:2*n, :]\n",
    "    train_y = dataset[1][index][0:n]\n",
    "    valid_y = dataset[1][index][n:2*n, :]\n",
    "    return train_x, train_y, valid_x, valid_y"
   ]
  },
  {
   "cell_type": "code",
   "execution_count": 53,
   "metadata": {
    "collapsed": false
   },
   "outputs": [
    {
     "data": {
      "text/plain": [
       "array([[ 0.,  0.,  0., ...,  0.,  0.,  0.],\n",
       "       [ 0.,  0.,  0., ...,  0.,  0.,  0.]], dtype=float32)"
      ]
     },
     "execution_count": 53,
     "metadata": {},
     "output_type": "execute_result"
    }
   ],
   "source": [
    "def visualize(data, size=10, channel=1):\n",
    "    from PIL import Image\n",
    "    from matplotlib import plot\n",
    "    imsize = np.sqrt(data.shape[1] / channel)\n",
    "    for i in np.arange(400):\n",
    "        im = Image.fromarray(data[i,:].reshape[imsize, imsize])\n",
    "        "
   ]
  },
  {
   "cell_type": "code",
   "execution_count": 22,
   "metadata": {
    "collapsed": false
   },
   "outputs": [
    {
     "ename": "SyntaxError",
     "evalue": "invalid syntax (<ipython-input-22-c9f4b0c570fa>, line 3)",
     "output_type": "error",
     "traceback": [
      "\u001b[0;36m  File \u001b[0;32m\"<ipython-input-22-c9f4b0c570fa>\"\u001b[0;36m, line \u001b[0;32m3\u001b[0m\n\u001b[0;31m    a.shape[]\u001b[0m\n\u001b[0m            ^\u001b[0m\n\u001b[0;31mSyntaxError\u001b[0m\u001b[0;31m:\u001b[0m invalid syntax\n"
     ]
    }
   ],
   "source": [
    "import numpy as np\n",
    "a = [1., 2]\n",
    "a.shape[]\n"
   ]
  }
 ],
 "metadata": {
  "kernelspec": {
   "display_name": "Python [conda env:python3]",
   "language": "python",
   "name": "conda-env-python3-py"
  },
  "language_info": {
   "codemirror_mode": {
    "name": "ipython",
    "version": 3
   },
   "file_extension": ".py",
   "mimetype": "text/x-python",
   "name": "python",
   "nbconvert_exporter": "python",
   "pygments_lexer": "ipython3",
   "version": "3.5.2"
  }
 },
 "nbformat": 4,
 "nbformat_minor": 2
}
