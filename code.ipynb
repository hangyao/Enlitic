{
 "cells": [
  {
   "cell_type": "code",
   "execution_count": 1,
   "metadata": {
    "collapsed": false
   },
   "outputs": [],
   "source": [
    "import numpy as np\n",
    "from tqdm import tqdm\n",
    "import time\n"
   ]
  },
  {
   "cell_type": "code",
   "execution_count": 2,
   "metadata": {
    "collapsed": false
   },
   "outputs": [],
   "source": [
    "def meanLogProb(xa, xb, sigma):\n",
    "    '''\n",
    "    Mean of the Log-Probability\n",
    "    '''\n",
    "    m = xb.shape[0]\n",
    "    sigma_m = 0.0\n",
    "    for i in np.arange(m):\n",
    "        sigma_m += probDensity(xa, xb[i,:], sigma)\n",
    "    return sigma_m/m\n",
    "\n",
    "def probDensity(xa, xb, sigma):\n",
    "    '''\n",
    "    Probability Density Function\n",
    "    '''\n",
    "    k, d = xa.shape\n",
    "    sigma_d = np.sum(-(xb-xa)**2, axis=1)\n",
    "    log_p = np.log(1/k) + logsumexp(sigma_d / (2*sigma**2) - d/2 * np.log(2*np.pi*sigma**2))\n",
    "    return log_p\n",
    "\n",
    "def logsumexp(arr):\n",
    "    '''\n",
    "    Log Sum Exp\n",
    "    '''\n",
    "    a_max = np.amax(arr)\n",
    "    s= np.sum(np.exp(arr - a_max))\n",
    "    return a_max + np.log(s)\n",
    "\n",
    "def shuffleData(dataset, n=10000):\n",
    "    '''\n",
    "    Shuffle Data\n",
    "    '''    \n",
    "    numData = dataset.shape[0]\n",
    "    index = np.random.permutation(numData)\n",
    "    train_x = dataset[index][0:n, :]\n",
    "    valid_x = dataset[index][n:2*n, :]\n",
    "    return train_x, valid_x"
   ]
  },
  {
   "cell_type": "code",
   "execution_count": 4,
   "metadata": {
    "collapsed": false
   },
   "outputs": [],
   "source": [
    "import pickle \n",
    "# load MNIST data\n",
    "file = 'mnist.pkl'\n",
    "with open(file, 'rb') as fo:\n",
    "    try:\n",
    "        train, validate, test = pickle.load(fo, encoding='latin1')\n",
    "    except:\n",
    "        print(\"error.\")\n",
    "        pass"
   ]
  },
  {
   "cell_type": "code",
   "execution_count": 47,
   "metadata": {
    "collapsed": false
   },
   "outputs": [],
   "source": [
    "# load CIFAR100 data\n",
    "files = ['data_batch_1', 'data_batch_2', 'data_batch_3', 'data_batch_4', 'data_batch_5']\n",
    "train = np.array([]).reshape(0, 3072)\n",
    "for file in files:\n",
    "    with open(file, 'rb') as fo:\n",
    "        try:\n",
    "            dict = pickle.load(fo, encoding='bytes')\n",
    "            train = np.vstack((train, dict[b'data']))\n",
    "        except:\n",
    "            print(\"error.\")\n",
    "            pass\n"
   ]
  },
  {
   "cell_type": "code",
   "execution_count": null,
   "metadata": {
    "collapsed": false
   },
   "outputs": [],
   "source": [
    "def visualize(data, size=10, channel=1):\n",
    "    from PIL import Image\n",
    "    from matplotlib import plot\n",
    "    imsize = np.sqrt(data.shape[1] / channel)\n",
    "    for i in np.arange(400):\n",
    "        im = Image.fromarray(data[i,:].reshape[imsize, imsize])\n",
    "        "
   ]
  },
  {
   "cell_type": "code",
   "execution_count": 8,
   "metadata": {
    "collapsed": false
   },
   "outputs": [],
   "source": [
    "# main\n",
    "\n",
    "train_x, valid_x = shuffleData(train[0])\n",
    "start = time.time()\n",
    "result = meanLogProb(train_x, valid_x, .05)\n",
    "end = time.time()\n",
    "print(result)\n",
    "print('time=',end-start)"
   ]
  }
 ],
 "metadata": {
  "kernelspec": {
   "display_name": "Python [conda env:python3]",
   "language": "python",
   "name": "conda-env-python3-py"
  },
  "language_info": {
   "codemirror_mode": {
    "name": "ipython",
    "version": 3
   },
   "file_extension": ".py",
   "mimetype": "text/x-python",
   "name": "python",
   "nbconvert_exporter": "python",
   "pygments_lexer": "ipython3",
   "version": "3.5.2"
  }
 },
 "nbformat": 4,
 "nbformat_minor": 2
}
